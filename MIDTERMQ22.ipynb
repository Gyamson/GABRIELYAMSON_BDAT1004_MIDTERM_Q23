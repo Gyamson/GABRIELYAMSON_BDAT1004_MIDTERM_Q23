{
 "cells": [
  {
   "cell_type": "markdown",
   "id": "42b3040e-2836-45c9-9b9d-965751a72d12",
   "metadata": {},
   "source": [
    "# QUESTION 22"
   ]
  },
  {
   "cell_type": "code",
   "execution_count": 13,
   "id": "10b47225-20c2-4794-a5ec-06c4c8595ad1",
   "metadata": {},
   "outputs": [
    {
     "name": "stdout",
     "output_type": "stream",
     "text": [
      "+----+\n",
      "| id |\n",
      "+----+\n",
      "|  2 |\n",
      "|  4 |\n",
      "+----+\n",
      "In 2015-01-02, the temperature was higher than the previous day (10 -> 25).\n",
      "In 2015-01-04, the temperature was higher than the previous day (20 -> 30).\n"
     ]
    }
   ],
   "source": [
    "import sqlite3\n",
    "\n",
    "# Creating the database\n",
    "conn = sqlite3.connect(':memory:')  \n",
    "cursor = conn.cursor()\n",
    "\n",
    "# Deleting if the table already exists\n",
    "cursor.execute('''DROP TABLE IF EXISTS Weather''')\n",
    "\n",
    "# Creating the Weather table\n",
    "cursor.execute('''CREATE TABLE Weather (id INTEGER PRIMARY KEY,recordDate DATE,temperature INTEGER)''')\n",
    "\n",
    "# Insert data into the Weather table\n",
    "data = [(1, '2015-01-01', 10),\n",
    "        (2, '2015-01-02', 25),\n",
    "        (3, '2015-01-03', 20),\n",
    "        (4, '2015-01-04', 30)\n",
    "]\n",
    "cursor.executemany('INSERT INTO Weather (id, recordDate, temperature) VALUES (?, ?, ?)', data)\n",
    "conn.commit()\n",
    "\n",
    "# this query finds all dates' IDs with higher temperatures compared to the previous dates\n",
    "query = '''\n",
    "SELECT w1.id\n",
    "FROM Weather w1\n",
    "JOIN Weather w2 ON DATE(w1.recordDate, '-1 day') = w2.recordDate\n",
    "WHERE w1.temperature > w2.temperature\n",
    "'''\n",
    "cursor.execute(query)\n",
    "result = cursor.fetchall()\n",
    "\n",
    "# Formatting and printing the result table\n",
    "print(\"+----+\\n| id |\\n+----+\")\n",
    "for row in result:\n",
    "    print(f\"|  {row[0]} |\")\n",
    "print(\"+----+\")\n",
    "\n",
    "# Explaining the temperature increase for each result\n",
    "for row in result:\n",
    "    cursor.execute('SELECT recordDate, temperature FROM Weather WHERE id = ?', (row[0],))\n",
    "    current = cursor.fetchone()\n",
    "    cursor.execute('SELECT temperature FROM Weather WHERE recordDate = DATE(?, \"-1 day\")', (current[0],))\n",
    "    previous = cursor.fetchone()\n",
    "    print(f\"In {current[0]}, the temperature was higher than the previous day ({previous[0]} -> {current[1]}).\")\n",
    "\n",
    "# Close the connection\n",
    "conn.close()\n"
   ]
  },
  {
   "cell_type": "code",
   "execution_count": null,
   "id": "8197d54c-d265-4795-bbbb-8d347476cf97",
   "metadata": {},
   "outputs": [],
   "source": []
  }
 ],
 "metadata": {
  "kernelspec": {
   "display_name": "Python 3 (ipykernel)",
   "language": "python",
   "name": "python3"
  },
  "language_info": {
   "codemirror_mode": {
    "name": "ipython",
    "version": 3
   },
   "file_extension": ".py",
   "mimetype": "text/x-python",
   "name": "python",
   "nbconvert_exporter": "python",
   "pygments_lexer": "ipython3",
   "version": "3.11.7"
  }
 },
 "nbformat": 4,
 "nbformat_minor": 5
}
